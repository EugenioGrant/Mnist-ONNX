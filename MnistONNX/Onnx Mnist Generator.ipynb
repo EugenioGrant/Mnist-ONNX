{
 "cells": [
  {
   "cell_type": "code",
   "execution_count": 9,
   "metadata": {},
   "outputs": [],
   "source": [
    "from sklearn.datasets import fetch_openml\n",
    "from sklearn.linear_model import LogisticRegression\n",
    "from sklearn.neighbors import KNeighborsClassifier\n",
    "from sklearn.ensemble import RandomForestClassifier, ExtraTreesClassifier\n",
    "from sklearn.decomposition import PCA\n",
    "from sklearn.pipeline import Pipeline\n",
    "from sklearn.preprocessing import MinMaxScaler, StandardScaler\n",
    "from sklearn.model_selection import cross_val_score\n",
    "from skl2onnx import convert_sklearn\n",
    "from skl2onnx.common.data_types import FloatTensorType, DoubleTensorType\n",
    "import pickle\n",
    "import pandas as pd\n",
    "import numpy as np"
   ]
  },
  {
   "source": [
    "## Cargar dataset de Mnist con imágenes grayscale de 28X28"
   ],
   "cell_type": "markdown",
   "metadata": {}
  },
  {
   "cell_type": "code",
   "execution_count": 10,
   "metadata": {},
   "outputs": [],
   "source": [
    "X, y = fetch_openml('mnist_784', version=1, return_X_y=True, as_frame=False)\n",
    "y = list(map(int, y))\n",
    "\n",
    "initial_types = [('input', FloatTensorType([1, X.shape[1]]))]"
   ]
  },
  {
   "source": [
    "## LogisticRegression"
   ],
   "cell_type": "markdown",
   "metadata": {}
  },
  {
   "cell_type": "code",
   "execution_count": 11,
   "metadata": {},
   "outputs": [],
   "source": [
    "MnistModelLR = Pipeline(steps=[('scaler',StandardScaler()),\n",
    "                             ('pca',PCA(n_components=200)),\n",
    "                             ('lr',LogisticRegression(C=1,max_iter=500))]).fit(X, y)\n",
    "# crossval = cross_val_score(MnistModelLR, X,y)\n",
    "# print(\"Cross Validation:\",crossval)\n",
    "# print(\"Score:\",crossval.mean())"
   ]
  },
  {
   "cell_type": "code",
   "execution_count": 12,
   "metadata": {},
   "outputs": [],
   "source": [
    "onx = convert_sklearn(MnistModelLR, initial_types=initial_types)\n",
    "with open(\"MnistLR.onnx\", \"wb\") as file:\n",
    "    file.write(onx.SerializeToString())"
   ]
  },
  {
   "cell_type": "code",
   "execution_count": 13,
   "metadata": {},
   "outputs": [],
   "source": [
    "with open('MnistLR.pkl', 'wb') as file:\n",
    "    pickle.dump(MnistModelLR, file)"
   ]
  },
  {
   "source": [
    "## KNeighborsClassifier"
   ],
   "cell_type": "markdown",
   "metadata": {}
  },
  {
   "cell_type": "code",
   "execution_count": 14,
   "metadata": {},
   "outputs": [],
   "source": [
    "MnistModelKNN = Pipeline(steps=[('scaler',StandardScaler()),\n",
    "                             ('pca',PCA(n_components=200)),\n",
    "                             ('knn',KNeighborsClassifier(n_neighbors=6))]).fit(X, y)\n",
    "\n",
    "# crossval = cross_val_score(MnistModelKNN, X,y)\n",
    "# print(\"Cross Validation:\",crossval)\n",
    "# print(\"Score:\",crossval.mean())"
   ]
  },
  {
   "cell_type": "code",
   "execution_count": 15,
   "metadata": {},
   "outputs": [],
   "source": [
    "onx = convert_sklearn(MnistModelKNN, initial_types=initial_types)\n",
    "with open(\"MnistKNN.onnx\", \"wb\") as file:\n",
    "    file.write(onx.SerializeToString())"
   ]
  },
  {
   "cell_type": "code",
   "execution_count": 16,
   "metadata": {},
   "outputs": [],
   "source": [
    "with open('MnistKNN.pkl', 'wb') as file:\n",
    "    pickle.dump(MnistModelKNN, file)"
   ]
  },
  {
   "source": [
    "## RandomForestClassifier"
   ],
   "cell_type": "markdown",
   "metadata": {}
  },
  {
   "cell_type": "code",
   "execution_count": 9,
   "metadata": {},
   "outputs": [],
   "source": [
    "MnistModelRF = Pipeline(steps=[('scaler',MinMaxScaler()),\n",
    "                             ('pca',PCA(n_components=200)),\n",
    "                             ('rt',RandomForestClassifier(n_estimators=200))]).fit(X, y)\n",
    "# crossval = cross_val_score(MnistModelRF, X,y)\n",
    "# print(\"Cross Validation:\",crossval)\n",
    "# print(\"Score:\",crossval.mean())                             "
   ]
  },
  {
   "cell_type": "code",
   "execution_count": 10,
   "metadata": {},
   "outputs": [],
   "source": [
    "onx = convert_sklearn(MnistModelRF, initial_types=initial_types)\n",
    "with open(\"MnistRF.onnx\", \"wb\") as file:\n",
    "    file.write(onx.SerializeToString())\n"
   ]
  },
  {
   "cell_type": "code",
   "execution_count": 11,
   "metadata": {},
   "outputs": [],
   "source": [
    "with open('MnistRF.pkl', 'wb') as file:\n",
    "    pickle.dump(MnistModelRF, file)"
   ]
  },
  {
   "source": [
    "## ExtraTreesClassifier"
   ],
   "cell_type": "markdown",
   "metadata": {}
  },
  {
   "cell_type": "code",
   "execution_count": 12,
   "metadata": {},
   "outputs": [],
   "source": [
    "MnistModelET = Pipeline(steps=[('scaler',MinMaxScaler()),\n",
    "                             ('pca',PCA(n_components=200)),\n",
    "                             ('et',ExtraTreesClassifier(n_estimators=200))]).fit(X, y)\n",
    "# crossval = cross_val_score(MnistModelET, X,y)\n",
    "# print(\"Cross Validation:\",crossval)\n",
    "# print(\"Score:\",crossval.mean())"
   ]
  },
  {
   "cell_type": "code",
   "execution_count": 13,
   "metadata": {},
   "outputs": [],
   "source": [
    "onx = convert_sklearn(MnistModelET, initial_types=initial_types)\n",
    "with open(\"MnistET.onnx\", \"wb\") as file:\n",
    "    file.write(onx.SerializeToString())"
   ]
  },
  {
   "cell_type": "code",
   "execution_count": 14,
   "metadata": {},
   "outputs": [],
   "source": [
    "with open('MnistET.pkl', 'wb') as file:\n",
    "    pickle.dump(MnistModelET, file)"
   ]
  },
  {
   "source": [
    "## Pycaret model comparison"
   ],
   "cell_type": "markdown",
   "metadata": {}
  },
  {
   "cell_type": "code",
   "execution_count": 23,
   "metadata": {},
   "outputs": [
    {
     "output_type": "display_data",
     "data": {
      "text/plain": "<pandas.io.formats.style.Styler at 0x12f8c2d6a00>",
      "text/html": "<style  type=\"text/css\" >\n    #T_17d9f_ th {\n          text-align: left;\n    }#T_17d9f_row0_col0,#T_17d9f_row0_col2,#T_17d9f_row1_col0,#T_17d9f_row1_col1,#T_17d9f_row1_col3,#T_17d9f_row1_col4,#T_17d9f_row1_col5,#T_17d9f_row1_col6,#T_17d9f_row1_col7,#T_17d9f_row2_col0,#T_17d9f_row2_col1,#T_17d9f_row2_col2,#T_17d9f_row2_col3,#T_17d9f_row2_col4,#T_17d9f_row2_col5,#T_17d9f_row2_col6,#T_17d9f_row2_col7,#T_17d9f_row3_col0,#T_17d9f_row3_col1,#T_17d9f_row3_col2,#T_17d9f_row3_col3,#T_17d9f_row3_col4,#T_17d9f_row3_col5,#T_17d9f_row3_col6,#T_17d9f_row3_col7,#T_17d9f_row4_col0,#T_17d9f_row4_col1,#T_17d9f_row4_col2,#T_17d9f_row4_col3,#T_17d9f_row4_col4,#T_17d9f_row4_col5,#T_17d9f_row4_col6,#T_17d9f_row4_col7,#T_17d9f_row5_col0,#T_17d9f_row5_col1,#T_17d9f_row5_col2,#T_17d9f_row5_col3,#T_17d9f_row5_col4,#T_17d9f_row5_col5,#T_17d9f_row5_col6,#T_17d9f_row5_col7,#T_17d9f_row6_col0,#T_17d9f_row6_col1,#T_17d9f_row6_col2,#T_17d9f_row6_col3,#T_17d9f_row6_col4,#T_17d9f_row6_col5,#T_17d9f_row6_col6,#T_17d9f_row6_col7,#T_17d9f_row7_col0,#T_17d9f_row7_col1,#T_17d9f_row7_col2,#T_17d9f_row7_col3,#T_17d9f_row7_col4,#T_17d9f_row7_col5,#T_17d9f_row7_col6,#T_17d9f_row7_col7,#T_17d9f_row8_col0,#T_17d9f_row8_col1,#T_17d9f_row8_col2,#T_17d9f_row8_col3,#T_17d9f_row8_col4,#T_17d9f_row8_col5,#T_17d9f_row8_col6,#T_17d9f_row8_col7,#T_17d9f_row9_col0,#T_17d9f_row9_col1,#T_17d9f_row9_col2,#T_17d9f_row9_col3,#T_17d9f_row9_col4,#T_17d9f_row9_col5,#T_17d9f_row9_col6,#T_17d9f_row9_col7,#T_17d9f_row10_col0,#T_17d9f_row10_col1,#T_17d9f_row10_col2,#T_17d9f_row10_col3,#T_17d9f_row10_col4,#T_17d9f_row10_col5,#T_17d9f_row10_col6,#T_17d9f_row10_col7,#T_17d9f_row11_col0,#T_17d9f_row11_col1,#T_17d9f_row11_col2,#T_17d9f_row11_col3,#T_17d9f_row11_col4,#T_17d9f_row11_col5,#T_17d9f_row11_col6,#T_17d9f_row11_col7,#T_17d9f_row12_col0,#T_17d9f_row12_col1,#T_17d9f_row12_col2,#T_17d9f_row12_col3,#T_17d9f_row12_col4,#T_17d9f_row12_col5,#T_17d9f_row12_col6,#T_17d9f_row12_col7,#T_17d9f_row13_col0,#T_17d9f_row13_col1,#T_17d9f_row13_col2,#T_17d9f_row13_col3,#T_17d9f_row13_col4,#T_17d9f_row13_col5,#T_17d9f_row13_col6,#T_17d9f_row13_col7{\n            text-align:  left;\n            text-align:  left;\n        }#T_17d9f_row0_col1,#T_17d9f_row0_col3,#T_17d9f_row0_col4,#T_17d9f_row0_col5,#T_17d9f_row0_col6,#T_17d9f_row0_col7,#T_17d9f_row1_col2{\n            text-align:  left;\n            text-align:  left;\n            background-color:  yellow;\n        }#T_17d9f_row0_col8,#T_17d9f_row1_col8,#T_17d9f_row2_col8,#T_17d9f_row3_col8,#T_17d9f_row4_col8,#T_17d9f_row5_col8,#T_17d9f_row6_col8,#T_17d9f_row7_col8,#T_17d9f_row8_col8,#T_17d9f_row10_col8,#T_17d9f_row11_col8,#T_17d9f_row12_col8,#T_17d9f_row13_col8{\n            text-align:  left;\n            text-align:  left;\n            background-color:  lightgrey;\n        }#T_17d9f_row9_col8{\n            text-align:  left;\n            text-align:  left;\n            background-color:  yellow;\n            background-color:  lightgrey;\n        }</style><table id=\"T_17d9f_\" ><thead>    <tr>        <th class=\"blank level0\" ></th>        <th class=\"col_heading level0 col0\" >Model</th>        <th class=\"col_heading level0 col1\" >Accuracy</th>        <th class=\"col_heading level0 col2\" >AUC</th>        <th class=\"col_heading level0 col3\" >Recall</th>        <th class=\"col_heading level0 col4\" >Prec.</th>        <th class=\"col_heading level0 col5\" >F1</th>        <th class=\"col_heading level0 col6\" >Kappa</th>        <th class=\"col_heading level0 col7\" >MCC</th>        <th class=\"col_heading level0 col8\" >TT (Sec)</th>    </tr></thead><tbody>\n                <tr>\n                        <th id=\"T_17d9f_level0_row0\" class=\"row_heading level0 row0\" >et</th>\n                        <td id=\"T_17d9f_row0_col0\" class=\"data row0 col0\" >Extra Trees Classifier</td>\n                        <td id=\"T_17d9f_row0_col1\" class=\"data row0 col1\" >0.9398</td>\n                        <td id=\"T_17d9f_row0_col2\" class=\"data row0 col2\" >0.9958</td>\n                        <td id=\"T_17d9f_row0_col3\" class=\"data row0 col3\" >0.9387</td>\n                        <td id=\"T_17d9f_row0_col4\" class=\"data row0 col4\" >0.9413</td>\n                        <td id=\"T_17d9f_row0_col5\" class=\"data row0 col5\" >0.9396</td>\n                        <td id=\"T_17d9f_row0_col6\" class=\"data row0 col6\" >0.9330</td>\n                        <td id=\"T_17d9f_row0_col7\" class=\"data row0 col7\" >0.9332</td>\n                        <td id=\"T_17d9f_row0_col8\" class=\"data row0 col8\" >0.3400</td>\n            </tr>\n            <tr>\n                        <th id=\"T_17d9f_level0_row1\" class=\"row_heading level0 row1\" >lightgbm</th>\n                        <td id=\"T_17d9f_row1_col0\" class=\"data row1 col0\" >Light Gradient Boosting Machine</td>\n                        <td id=\"T_17d9f_row1_col1\" class=\"data row1 col1\" >0.9357</td>\n                        <td id=\"T_17d9f_row1_col2\" class=\"data row1 col2\" >0.9964</td>\n                        <td id=\"T_17d9f_row1_col3\" class=\"data row1 col3\" >0.9350</td>\n                        <td id=\"T_17d9f_row1_col4\" class=\"data row1 col4\" >0.9369</td>\n                        <td id=\"T_17d9f_row1_col5\" class=\"data row1 col5\" >0.9357</td>\n                        <td id=\"T_17d9f_row1_col6\" class=\"data row1 col6\" >0.9285</td>\n                        <td id=\"T_17d9f_row1_col7\" class=\"data row1 col7\" >0.9286</td>\n                        <td id=\"T_17d9f_row1_col8\" class=\"data row1 col8\" >6.6920</td>\n            </tr>\n            <tr>\n                        <th id=\"T_17d9f_level0_row2\" class=\"row_heading level0 row2\" >rf</th>\n                        <td id=\"T_17d9f_row2_col0\" class=\"data row2 col0\" >Random Forest Classifier</td>\n                        <td id=\"T_17d9f_row2_col1\" class=\"data row2 col1\" >0.9310</td>\n                        <td id=\"T_17d9f_row2_col2\" class=\"data row2 col2\" >0.9951</td>\n                        <td id=\"T_17d9f_row2_col3\" class=\"data row2 col3\" >0.9298</td>\n                        <td id=\"T_17d9f_row2_col4\" class=\"data row2 col4\" >0.9323</td>\n                        <td id=\"T_17d9f_row2_col5\" class=\"data row2 col5\" >0.9308</td>\n                        <td id=\"T_17d9f_row2_col6\" class=\"data row2 col6\" >0.9233</td>\n                        <td id=\"T_17d9f_row2_col7\" class=\"data row2 col7\" >0.9235</td>\n                        <td id=\"T_17d9f_row2_col8\" class=\"data row2 col8\" >0.2980</td>\n            </tr>\n            <tr>\n                        <th id=\"T_17d9f_level0_row3\" class=\"row_heading level0 row3\" >xgboost</th>\n                        <td id=\"T_17d9f_row3_col0\" class=\"data row3 col0\" >Extreme Gradient Boosting</td>\n                        <td id=\"T_17d9f_row3_col1\" class=\"data row3 col1\" >0.9300</td>\n                        <td id=\"T_17d9f_row3_col2\" class=\"data row3 col2\" >0.9959</td>\n                        <td id=\"T_17d9f_row3_col3\" class=\"data row3 col3\" >0.9290</td>\n                        <td id=\"T_17d9f_row3_col4\" class=\"data row3 col4\" >0.9309</td>\n                        <td id=\"T_17d9f_row3_col5\" class=\"data row3 col5\" >0.9299</td>\n                        <td id=\"T_17d9f_row3_col6\" class=\"data row3 col6\" >0.9222</td>\n                        <td id=\"T_17d9f_row3_col7\" class=\"data row3 col7\" >0.9223</td>\n                        <td id=\"T_17d9f_row3_col8\" class=\"data row3 col8\" >12.3240</td>\n            </tr>\n            <tr>\n                        <th id=\"T_17d9f_level0_row4\" class=\"row_heading level0 row4\" >knn</th>\n                        <td id=\"T_17d9f_row4_col0\" class=\"data row4 col0\" >K Neighbors Classifier</td>\n                        <td id=\"T_17d9f_row4_col1\" class=\"data row4 col1\" >0.9245</td>\n                        <td id=\"T_17d9f_row4_col2\" class=\"data row4 col2\" >0.9871</td>\n                        <td id=\"T_17d9f_row4_col3\" class=\"data row4 col3\" >0.9229</td>\n                        <td id=\"T_17d9f_row4_col4\" class=\"data row4 col4\" >0.9283</td>\n                        <td id=\"T_17d9f_row4_col5\" class=\"data row4 col5\" >0.9239</td>\n                        <td id=\"T_17d9f_row4_col6\" class=\"data row4 col6\" >0.9160</td>\n                        <td id=\"T_17d9f_row4_col7\" class=\"data row4 col7\" >0.9165</td>\n                        <td id=\"T_17d9f_row4_col8\" class=\"data row4 col8\" >1.1370</td>\n            </tr>\n            <tr>\n                        <th id=\"T_17d9f_level0_row5\" class=\"row_heading level0 row5\" >gbc</th>\n                        <td id=\"T_17d9f_row5_col0\" class=\"data row5 col0\" >Gradient Boosting Classifier</td>\n                        <td id=\"T_17d9f_row5_col1\" class=\"data row5 col1\" >0.9071</td>\n                        <td id=\"T_17d9f_row5_col2\" class=\"data row5 col2\" >0.9940</td>\n                        <td id=\"T_17d9f_row5_col3\" class=\"data row5 col3\" >0.9059</td>\n                        <td id=\"T_17d9f_row5_col4\" class=\"data row5 col4\" >0.9086</td>\n                        <td id=\"T_17d9f_row5_col5\" class=\"data row5 col5\" >0.9070</td>\n                        <td id=\"T_17d9f_row5_col6\" class=\"data row5 col6\" >0.8967</td>\n                        <td id=\"T_17d9f_row5_col7\" class=\"data row5 col7\" >0.8969</td>\n                        <td id=\"T_17d9f_row5_col8\" class=\"data row5 col8\" >17.4760</td>\n            </tr>\n            <tr>\n                        <th id=\"T_17d9f_level0_row6\" class=\"row_heading level0 row6\" >lr</th>\n                        <td id=\"T_17d9f_row6_col0\" class=\"data row6 col0\" >Logistic Regression</td>\n                        <td id=\"T_17d9f_row6_col1\" class=\"data row6 col1\" >0.8592</td>\n                        <td id=\"T_17d9f_row6_col2\" class=\"data row6 col2\" >0.9811</td>\n                        <td id=\"T_17d9f_row6_col3\" class=\"data row6 col3\" >0.8570</td>\n                        <td id=\"T_17d9f_row6_col4\" class=\"data row6 col4\" >0.8607</td>\n                        <td id=\"T_17d9f_row6_col5\" class=\"data row6 col5\" >0.8588</td>\n                        <td id=\"T_17d9f_row6_col6\" class=\"data row6 col6\" >0.8434</td>\n                        <td id=\"T_17d9f_row6_col7\" class=\"data row6 col7\" >0.8437</td>\n                        <td id=\"T_17d9f_row6_col8\" class=\"data row6 col8\" >3.7480</td>\n            </tr>\n            <tr>\n                        <th id=\"T_17d9f_level0_row7\" class=\"row_heading level0 row7\" >svm</th>\n                        <td id=\"T_17d9f_row7_col0\" class=\"data row7 col0\" >SVM - Linear Kernel</td>\n                        <td id=\"T_17d9f_row7_col1\" class=\"data row7 col1\" >0.8457</td>\n                        <td id=\"T_17d9f_row7_col2\" class=\"data row7 col2\" >0.0000</td>\n                        <td id=\"T_17d9f_row7_col3\" class=\"data row7 col3\" >0.8432</td>\n                        <td id=\"T_17d9f_row7_col4\" class=\"data row7 col4\" >0.8492</td>\n                        <td id=\"T_17d9f_row7_col5\" class=\"data row7 col5\" >0.8448</td>\n                        <td id=\"T_17d9f_row7_col6\" class=\"data row7 col6\" >0.8284</td>\n                        <td id=\"T_17d9f_row7_col7\" class=\"data row7 col7\" >0.8290</td>\n                        <td id=\"T_17d9f_row7_col8\" class=\"data row7 col8\" >0.6660</td>\n            </tr>\n            <tr>\n                        <th id=\"T_17d9f_level0_row8\" class=\"row_heading level0 row8\" >lda</th>\n                        <td id=\"T_17d9f_row8_col0\" class=\"data row8 col0\" >Linear Discriminant Analysis</td>\n                        <td id=\"T_17d9f_row8_col1\" class=\"data row8 col1\" >0.8277</td>\n                        <td id=\"T_17d9f_row8_col2\" class=\"data row8 col2\" >0.9697</td>\n                        <td id=\"T_17d9f_row8_col3\" class=\"data row8 col3\" >0.8267</td>\n                        <td id=\"T_17d9f_row8_col4\" class=\"data row8 col4\" >0.8316</td>\n                        <td id=\"T_17d9f_row8_col5\" class=\"data row8 col5\" >0.8273</td>\n                        <td id=\"T_17d9f_row8_col6\" class=\"data row8 col6\" >0.8085</td>\n                        <td id=\"T_17d9f_row8_col7\" class=\"data row8 col7\" >0.8090</td>\n                        <td id=\"T_17d9f_row8_col8\" class=\"data row8 col8\" >0.3530</td>\n            </tr>\n            <tr>\n                        <th id=\"T_17d9f_level0_row9\" class=\"row_heading level0 row9\" >ridge</th>\n                        <td id=\"T_17d9f_row9_col0\" class=\"data row9 col0\" >Ridge Classifier</td>\n                        <td id=\"T_17d9f_row9_col1\" class=\"data row9 col1\" >0.8120</td>\n                        <td id=\"T_17d9f_row9_col2\" class=\"data row9 col2\" >0.0000</td>\n                        <td id=\"T_17d9f_row9_col3\" class=\"data row9 col3\" >0.8097</td>\n                        <td id=\"T_17d9f_row9_col4\" class=\"data row9 col4\" >0.8128</td>\n                        <td id=\"T_17d9f_row9_col5\" class=\"data row9 col5\" >0.8096</td>\n                        <td id=\"T_17d9f_row9_col6\" class=\"data row9 col6\" >0.7909</td>\n                        <td id=\"T_17d9f_row9_col7\" class=\"data row9 col7\" >0.7915</td>\n                        <td id=\"T_17d9f_row9_col8\" class=\"data row9 col8\" >0.0490</td>\n            </tr>\n            <tr>\n                        <th id=\"T_17d9f_level0_row10\" class=\"row_heading level0 row10\" >dt</th>\n                        <td id=\"T_17d9f_row10_col0\" class=\"data row10 col0\" >Decision Tree Classifier</td>\n                        <td id=\"T_17d9f_row10_col1\" class=\"data row10 col1\" >0.7565</td>\n                        <td id=\"T_17d9f_row10_col2\" class=\"data row10 col2\" >0.8648</td>\n                        <td id=\"T_17d9f_row10_col3\" class=\"data row10 col3\" >0.7539</td>\n                        <td id=\"T_17d9f_row10_col4\" class=\"data row10 col4\" >0.7577</td>\n                        <td id=\"T_17d9f_row10_col5\" class=\"data row10 col5\" >0.7554</td>\n                        <td id=\"T_17d9f_row10_col6\" class=\"data row10 col6\" >0.7293</td>\n                        <td id=\"T_17d9f_row10_col7\" class=\"data row10 col7\" >0.7296</td>\n                        <td id=\"T_17d9f_row10_col8\" class=\"data row10 col8\" >0.1180</td>\n            </tr>\n            <tr>\n                        <th id=\"T_17d9f_level0_row11\" class=\"row_heading level0 row11\" >ada</th>\n                        <td id=\"T_17d9f_row11_col0\" class=\"data row11 col0\" >Ada Boost Classifier</td>\n                        <td id=\"T_17d9f_row11_col1\" class=\"data row11 col1\" >0.6085</td>\n                        <td id=\"T_17d9f_row11_col2\" class=\"data row11 col2\" >0.8844</td>\n                        <td id=\"T_17d9f_row11_col3\" class=\"data row11 col3\" >0.6048</td>\n                        <td id=\"T_17d9f_row11_col4\" class=\"data row11 col4\" >0.6205</td>\n                        <td id=\"T_17d9f_row11_col5\" class=\"data row11 col5\" >0.6061</td>\n                        <td id=\"T_17d9f_row11_col6\" class=\"data row11 col6\" >0.5650</td>\n                        <td id=\"T_17d9f_row11_col7\" class=\"data row11 col7\" >0.5670</td>\n                        <td id=\"T_17d9f_row11_col8\" class=\"data row11 col8\" >0.3700</td>\n            </tr>\n            <tr>\n                        <th id=\"T_17d9f_level0_row12\" class=\"row_heading level0 row12\" >nb</th>\n                        <td id=\"T_17d9f_row12_col0\" class=\"data row12 col0\" >Naive Bayes</td>\n                        <td id=\"T_17d9f_row12_col1\" class=\"data row12 col1\" >0.5818</td>\n                        <td id=\"T_17d9f_row12_col2\" class=\"data row12 col2\" >0.9069</td>\n                        <td id=\"T_17d9f_row12_col3\" class=\"data row12 col3\" >0.5750</td>\n                        <td id=\"T_17d9f_row12_col4\" class=\"data row12 col4\" >0.6474</td>\n                        <td id=\"T_17d9f_row12_col5\" class=\"data row12 col5\" >0.5436</td>\n                        <td id=\"T_17d9f_row12_col6\" class=\"data row12 col6\" >0.5349</td>\n                        <td id=\"T_17d9f_row12_col7\" class=\"data row12 col7\" >0.5470</td>\n                        <td id=\"T_17d9f_row12_col8\" class=\"data row12 col8\" >0.0760</td>\n            </tr>\n            <tr>\n                        <th id=\"T_17d9f_level0_row13\" class=\"row_heading level0 row13\" >qda</th>\n                        <td id=\"T_17d9f_row13_col0\" class=\"data row13 col0\" >Quadratic Discriminant Analysis</td>\n                        <td id=\"T_17d9f_row13_col1\" class=\"data row13 col1\" >0.2535</td>\n                        <td id=\"T_17d9f_row13_col2\" class=\"data row13 col2\" >0.5861</td>\n                        <td id=\"T_17d9f_row13_col3\" class=\"data row13 col3\" >0.2544</td>\n                        <td id=\"T_17d9f_row13_col4\" class=\"data row13 col4\" >0.2091</td>\n                        <td id=\"T_17d9f_row13_col5\" class=\"data row13 col5\" >0.2146</td>\n                        <td id=\"T_17d9f_row13_col6\" class=\"data row13 col6\" >0.1717</td>\n                        <td id=\"T_17d9f_row13_col7\" class=\"data row13 col7\" >0.1765</td>\n                        <td id=\"T_17d9f_row13_col8\" class=\"data row13 col8\" >0.3040</td>\n            </tr>\n    </tbody></table>"
     },
     "metadata": {}
    }
   ],
   "source": [
    "# from pycaret.classification import *\n",
    "# ### Sampling ####\n",
    "# X2=pd.DataFrame(X).sample(n=7000, random_state=1)\n",
    "# y2=pd.DataFrame(y).sample(n=7000, random_state=1)\n",
    "# X2['y']=y2\n",
    "# CaretModel = setup(data = X2, target = 'y', silent=True)\n",
    "# best = compare_models(exclude = ['catboost']) # CatBoost demora mucho"
   ]
  },
  {
   "cell_type": "code",
   "execution_count": 24,
   "metadata": {},
   "outputs": [
    {
     "output_type": "display_data",
     "data": {
      "text/plain": "<pandas.io.formats.style.Styler at 0x1301d4d2970>",
      "text/html": "<style  type=\"text/css\" >\n#T_a1984_row10_col0,#T_a1984_row10_col1,#T_a1984_row10_col2,#T_a1984_row10_col3,#T_a1984_row10_col4,#T_a1984_row10_col5,#T_a1984_row10_col6{\n            background:  yellow;\n        }</style><table id=\"T_a1984_\" ><thead>    <tr>        <th class=\"blank level0\" ></th>        <th class=\"col_heading level0 col0\" >Accuracy</th>        <th class=\"col_heading level0 col1\" >AUC</th>        <th class=\"col_heading level0 col2\" >Recall</th>        <th class=\"col_heading level0 col3\" >Prec.</th>        <th class=\"col_heading level0 col4\" >F1</th>        <th class=\"col_heading level0 col5\" >Kappa</th>        <th class=\"col_heading level0 col6\" >MCC</th>    </tr></thead><tbody>\n                <tr>\n                        <th id=\"T_a1984_level0_row0\" class=\"row_heading level0 row0\" >0</th>\n                        <td id=\"T_a1984_row0_col0\" class=\"data row0 col0\" >0.8714</td>\n                        <td id=\"T_a1984_row0_col1\" class=\"data row0 col1\" >0.9842</td>\n                        <td id=\"T_a1984_row0_col2\" class=\"data row0 col2\" >0.8693</td>\n                        <td id=\"T_a1984_row0_col3\" class=\"data row0 col3\" >0.8711</td>\n                        <td id=\"T_a1984_row0_col4\" class=\"data row0 col4\" >0.8709</td>\n                        <td id=\"T_a1984_row0_col5\" class=\"data row0 col5\" >0.8570</td>\n                        <td id=\"T_a1984_row0_col6\" class=\"data row0 col6\" >0.8571</td>\n            </tr>\n            <tr>\n                        <th id=\"T_a1984_level0_row1\" class=\"row_heading level0 row1\" >1</th>\n                        <td id=\"T_a1984_row1_col0\" class=\"data row1 col0\" >0.8633</td>\n                        <td id=\"T_a1984_row1_col1\" class=\"data row1 col1\" >0.9859</td>\n                        <td id=\"T_a1984_row1_col2\" class=\"data row1 col2\" >0.8617</td>\n                        <td id=\"T_a1984_row1_col3\" class=\"data row1 col3\" >0.8690</td>\n                        <td id=\"T_a1984_row1_col4\" class=\"data row1 col4\" >0.8641</td>\n                        <td id=\"T_a1984_row1_col5\" class=\"data row1 col5\" >0.8480</td>\n                        <td id=\"T_a1984_row1_col6\" class=\"data row1 col6\" >0.8485</td>\n            </tr>\n            <tr>\n                        <th id=\"T_a1984_level0_row2\" class=\"row_heading level0 row2\" >2</th>\n                        <td id=\"T_a1984_row2_col0\" class=\"data row2 col0\" >0.8245</td>\n                        <td id=\"T_a1984_row2_col1\" class=\"data row2 col1\" >0.9720</td>\n                        <td id=\"T_a1984_row2_col2\" class=\"data row2 col2\" >0.8224</td>\n                        <td id=\"T_a1984_row2_col3\" class=\"data row2 col3\" >0.8266</td>\n                        <td id=\"T_a1984_row2_col4\" class=\"data row2 col4\" >0.8240</td>\n                        <td id=\"T_a1984_row2_col5\" class=\"data row2 col5\" >0.8048</td>\n                        <td id=\"T_a1984_row2_col6\" class=\"data row2 col6\" >0.8052</td>\n            </tr>\n            <tr>\n                        <th id=\"T_a1984_level0_row3\" class=\"row_heading level0 row3\" >3</th>\n                        <td id=\"T_a1984_row3_col0\" class=\"data row3 col0\" >0.8490</td>\n                        <td id=\"T_a1984_row3_col1\" class=\"data row3 col1\" >0.9787</td>\n                        <td id=\"T_a1984_row3_col2\" class=\"data row3 col2\" >0.8447</td>\n                        <td id=\"T_a1984_row3_col3\" class=\"data row3 col3\" >0.8499</td>\n                        <td id=\"T_a1984_row3_col4\" class=\"data row3 col4\" >0.8480</td>\n                        <td id=\"T_a1984_row3_col5\" class=\"data row3 col5\" >0.8321</td>\n                        <td id=\"T_a1984_row3_col6\" class=\"data row3 col6\" >0.8324</td>\n            </tr>\n            <tr>\n                        <th id=\"T_a1984_level0_row4\" class=\"row_heading level0 row4\" >4</th>\n                        <td id=\"T_a1984_row4_col0\" class=\"data row4 col0\" >0.8755</td>\n                        <td id=\"T_a1984_row4_col1\" class=\"data row4 col1\" >0.9841</td>\n                        <td id=\"T_a1984_row4_col2\" class=\"data row4 col2\" >0.8743</td>\n                        <td id=\"T_a1984_row4_col3\" class=\"data row4 col3\" >0.8775</td>\n                        <td id=\"T_a1984_row4_col4\" class=\"data row4 col4\" >0.8756</td>\n                        <td id=\"T_a1984_row4_col5\" class=\"data row4 col5\" >0.8616</td>\n                        <td id=\"T_a1984_row4_col6\" class=\"data row4 col6\" >0.8618</td>\n            </tr>\n            <tr>\n                        <th id=\"T_a1984_level0_row5\" class=\"row_heading level0 row5\" >5</th>\n                        <td id=\"T_a1984_row5_col0\" class=\"data row5 col0\" >0.8469</td>\n                        <td id=\"T_a1984_row5_col1\" class=\"data row5 col1\" >0.9799</td>\n                        <td id=\"T_a1984_row5_col2\" class=\"data row5 col2\" >0.8444</td>\n                        <td id=\"T_a1984_row5_col3\" class=\"data row5 col3\" >0.8469</td>\n                        <td id=\"T_a1984_row5_col4\" class=\"data row5 col4\" >0.8465</td>\n                        <td id=\"T_a1984_row5_col5\" class=\"data row5 col5\" >0.8298</td>\n                        <td id=\"T_a1984_row5_col6\" class=\"data row5 col6\" >0.8299</td>\n            </tr>\n            <tr>\n                        <th id=\"T_a1984_level0_row6\" class=\"row_heading level0 row6\" >6</th>\n                        <td id=\"T_a1984_row6_col0\" class=\"data row6 col0\" >0.8429</td>\n                        <td id=\"T_a1984_row6_col1\" class=\"data row6 col1\" >0.9794</td>\n                        <td id=\"T_a1984_row6_col2\" class=\"data row6 col2\" >0.8395</td>\n                        <td id=\"T_a1984_row6_col3\" class=\"data row6 col3\" >0.8431</td>\n                        <td id=\"T_a1984_row6_col4\" class=\"data row6 col4\" >0.8419</td>\n                        <td id=\"T_a1984_row6_col5\" class=\"data row6 col5\" >0.8253</td>\n                        <td id=\"T_a1984_row6_col6\" class=\"data row6 col6\" >0.8255</td>\n            </tr>\n            <tr>\n                        <th id=\"T_a1984_level0_row7\" class=\"row_heading level0 row7\" >7</th>\n                        <td id=\"T_a1984_row7_col0\" class=\"data row7 col0\" >0.8694</td>\n                        <td id=\"T_a1984_row7_col1\" class=\"data row7 col1\" >0.9853</td>\n                        <td id=\"T_a1984_row7_col2\" class=\"data row7 col2\" >0.8671</td>\n                        <td id=\"T_a1984_row7_col3\" class=\"data row7 col3\" >0.8713</td>\n                        <td id=\"T_a1984_row7_col4\" class=\"data row7 col4\" >0.8696</td>\n                        <td id=\"T_a1984_row7_col5\" class=\"data row7 col5\" >0.8548</td>\n                        <td id=\"T_a1984_row7_col6\" class=\"data row7 col6\" >0.8550</td>\n            </tr>\n            <tr>\n                        <th id=\"T_a1984_level0_row8\" class=\"row_heading level0 row8\" >8</th>\n                        <td id=\"T_a1984_row8_col0\" class=\"data row8 col0\" >0.8592</td>\n                        <td id=\"T_a1984_row8_col1\" class=\"data row8 col1\" >0.9792</td>\n                        <td id=\"T_a1984_row8_col2\" class=\"data row8 col2\" >0.8589</td>\n                        <td id=\"T_a1984_row8_col3\" class=\"data row8 col3\" >0.8614</td>\n                        <td id=\"T_a1984_row8_col4\" class=\"data row8 col4\" >0.8584</td>\n                        <td id=\"T_a1984_row8_col5\" class=\"data row8 col5\" >0.8435</td>\n                        <td id=\"T_a1984_row8_col6\" class=\"data row8 col6\" >0.8439</td>\n            </tr>\n            <tr>\n                        <th id=\"T_a1984_level0_row9\" class=\"row_heading level0 row9\" >9</th>\n                        <td id=\"T_a1984_row9_col0\" class=\"data row9 col0\" >0.8937</td>\n                        <td id=\"T_a1984_row9_col1\" class=\"data row9 col1\" >0.9841</td>\n                        <td id=\"T_a1984_row9_col2\" class=\"data row9 col2\" >0.8921</td>\n                        <td id=\"T_a1984_row9_col3\" class=\"data row9 col3\" >0.8948</td>\n                        <td id=\"T_a1984_row9_col4\" class=\"data row9 col4\" >0.8929</td>\n                        <td id=\"T_a1984_row9_col5\" class=\"data row9 col5\" >0.8818</td>\n                        <td id=\"T_a1984_row9_col6\" class=\"data row9 col6\" >0.8820</td>\n            </tr>\n            <tr>\n                        <th id=\"T_a1984_level0_row10\" class=\"row_heading level0 row10\" >Mean</th>\n                        <td id=\"T_a1984_row10_col0\" class=\"data row10 col0\" >0.8596</td>\n                        <td id=\"T_a1984_row10_col1\" class=\"data row10 col1\" >0.9813</td>\n                        <td id=\"T_a1984_row10_col2\" class=\"data row10 col2\" >0.8574</td>\n                        <td id=\"T_a1984_row10_col3\" class=\"data row10 col3\" >0.8612</td>\n                        <td id=\"T_a1984_row10_col4\" class=\"data row10 col4\" >0.8592</td>\n                        <td id=\"T_a1984_row10_col5\" class=\"data row10 col5\" >0.8439</td>\n                        <td id=\"T_a1984_row10_col6\" class=\"data row10 col6\" >0.8441</td>\n            </tr>\n            <tr>\n                        <th id=\"T_a1984_level0_row11\" class=\"row_heading level0 row11\" >SD</th>\n                        <td id=\"T_a1984_row11_col0\" class=\"data row11 col0\" >0.0186</td>\n                        <td id=\"T_a1984_row11_col1\" class=\"data row11 col1\" >0.0041</td>\n                        <td id=\"T_a1984_row11_col2\" class=\"data row11 col2\" >0.0190</td>\n                        <td id=\"T_a1984_row11_col3\" class=\"data row11 col3\" >0.0187</td>\n                        <td id=\"T_a1984_row11_col4\" class=\"data row11 col4\" >0.0187</td>\n                        <td id=\"T_a1984_row11_col5\" class=\"data row11 col5\" >0.0207</td>\n                        <td id=\"T_a1984_row11_col6\" class=\"data row11 col6\" >0.0206</td>\n            </tr>\n    </tbody></table>"
     },
     "metadata": {}
    },
    {
     "output_type": "execute_result",
     "data": {
      "text/plain": [
       "LogisticRegression(C=0.189, class_weight='balanced', dual=False,\n",
       "                   fit_intercept=True, intercept_scaling=1, l1_ratio=None,\n",
       "                   max_iter=1000, multi_class='auto', n_jobs=None, penalty='l2',\n",
       "                   random_state=None, solver='lbfgs', tol=0.0001, verbose=0,\n",
       "                   warm_start=False)"
      ]
     },
     "metadata": {},
     "execution_count": 24
    }
   ],
   "source": [
    "# tuned = tune_model(LogisticRegression(C=1,max_iter=1000).fit(X, y),n_iter = 100)\n",
    "# tuned"
   ]
  },
  {
   "cell_type": "code",
   "execution_count": null,
   "metadata": {},
   "outputs": [],
   "source": []
  }
 ],
 "metadata": {
  "kernelspec": {
   "name": "python3",
   "display_name": "Python 3.8.7 64-bit",
   "metadata": {
    "interpreter": {
     "hash": "1baa965d5efe3ac65b79dfc60c0d706280b1da80fedb7760faf2759126c4f253"
    }
   }
  },
  "language_info": {
   "codemirror_mode": {
    "name": "ipython",
    "version": 3
   },
   "file_extension": ".py",
   "mimetype": "text/x-python",
   "name": "python",
   "nbconvert_exporter": "python",
   "pygments_lexer": "ipython3",
   "version": "3.8.7-final"
  }
 },
 "nbformat": 4,
 "nbformat_minor": 4
}