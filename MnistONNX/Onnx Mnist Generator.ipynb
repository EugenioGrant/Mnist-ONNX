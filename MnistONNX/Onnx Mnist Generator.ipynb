{
 "cells": [
  {
   "cell_type": "code",
   "execution_count": 1,
   "metadata": {},
   "outputs": [],
   "source": [
    "from sklearn.datasets import fetch_openml\n",
    "from sklearn.linear_model import LogisticRegression\n",
    "from sklearn.neighbors import KNeighborsClassifier\n",
    "from sklearn.ensemble import RandomForestClassifier, ExtraTreesClassifier\n",
    "from sklearn.decomposition import PCA\n",
    "from sklearn.pipeline import Pipeline\n",
    "from sklearn.preprocessing import MinMaxScaler\n",
    "from skl2onnx import convert_sklearn\n",
    "from skl2onnx.common.data_types import FloatTensorType\n",
    "import pickle\n",
    "import pandas as pd\n",
    "import numpy as np"
   ]
  },
  {
   "source": [
    "## Cargar dataset de Mnist con imágenes grayscale de 28X28"
   ],
   "cell_type": "markdown",
   "metadata": {}
  },
  {
   "cell_type": "code",
   "execution_count": 2,
   "metadata": {},
   "outputs": [],
   "source": [
    "X, y = fetch_openml('mnist_784', version=1, return_X_y=True, as_frame=False)\n",
    "y = list(map(int, y))\n",
    "initial_types = [('input', FloatTensorType([1, X.shape[1]]))]\n",
    "\n",
    "### Sampling ####\n",
    "# X=pd.DataFrame(X).sample(n=2000, random_state=42)\n",
    "# y=pd.DataFrame(y).sample(n=2000, random_state=42)"
   ]
  },
  {
   "source": [
    "## LogisticRegression"
   ],
   "cell_type": "markdown",
   "metadata": {}
  },
  {
   "cell_type": "code",
   "execution_count": 3,
   "metadata": {},
   "outputs": [],
   "source": [
    "MnistModelLR = Pipeline(steps=[('scaler',MinMaxScaler()),\n",
    "                             ('pca',PCA(n_components=200)),\n",
    "                             ('lr',LogisticRegression(C=1,max_iter=1000))]).fit(X, y)"
   ]
  },
  {
   "cell_type": "code",
   "execution_count": 4,
   "metadata": {},
   "outputs": [],
   "source": [
    "onx = convert_sklearn(MnistModelLR, initial_types=initial_types)\n",
    "with open(\"MnistLR.onnx\", \"wb\") as file:\n",
    "    file.write(onx.SerializeToString())"
   ]
  },
  {
   "cell_type": "code",
   "execution_count": 5,
   "metadata": {},
   "outputs": [],
   "source": [
    "with open('MnistLR.pkl', 'wb') as file:\n",
    "    pickle.dump(MnistModelLR, file)"
   ]
  },
  {
   "source": [
    "## KNeighborsClassifier"
   ],
   "cell_type": "markdown",
   "metadata": {}
  },
  {
   "cell_type": "code",
   "execution_count": 6,
   "metadata": {},
   "outputs": [],
   "source": [
    "MnistModelKNN = Pipeline(steps=[('scaler',MinMaxScaler()),\n",
    "                             ('pca',PCA(n_components=200)),\n",
    "                             ('knn',KNeighborsClassifier(n_neighbors=6, weights=\"distance\"))]).fit(X, y)"
   ]
  },
  {
   "cell_type": "code",
   "execution_count": 7,
   "metadata": {},
   "outputs": [],
   "source": [
    "onx = convert_sklearn(MnistModelKNN, initial_types=initial_types)\n",
    "with open(\"MnistKNN.onnx\", \"wb\") as file:\n",
    "    file.write(onx.SerializeToString())"
   ]
  },
  {
   "cell_type": "code",
   "execution_count": 8,
   "metadata": {},
   "outputs": [],
   "source": [
    "with open('MnistKNN.pkl', 'wb') as file:\n",
    "    pickle.dump(MnistModelKNN, file)"
   ]
  },
  {
   "source": [
    "## RandomForestClassifier"
   ],
   "cell_type": "markdown",
   "metadata": {}
  },
  {
   "cell_type": "code",
   "execution_count": 9,
   "metadata": {},
   "outputs": [],
   "source": [
    "MnistModelRF = Pipeline(steps=[('scaler',MinMaxScaler()),\n",
    "                             ('pca',PCA(n_components=200)),\n",
    "                             ('rt',RandomForestClassifier(n_estimators=200))]).fit(X, y)"
   ]
  },
  {
   "cell_type": "code",
   "execution_count": 10,
   "metadata": {},
   "outputs": [],
   "source": [
    "onx = convert_sklearn(MnistModelRF, initial_types=initial_types)\n",
    "with open(\"MnistRF.onnx\", \"wb\") as file:\n",
    "    file.write(onx.SerializeToString())\n"
   ]
  },
  {
   "cell_type": "code",
   "execution_count": 11,
   "metadata": {},
   "outputs": [],
   "source": [
    "with open('MnistRF.pkl', 'wb') as file:\n",
    "    pickle.dump(MnistModelRF, file)"
   ]
  },
  {
   "source": [
    "## ExtraTreesClassifier"
   ],
   "cell_type": "markdown",
   "metadata": {}
  },
  {
   "cell_type": "code",
   "execution_count": 12,
   "metadata": {},
   "outputs": [],
   "source": [
    "MnistModelET = Pipeline(steps=[('scaler',MinMaxScaler()),\n",
    "                             ('pca',PCA(n_components=200)),\n",
    "                             ('et',ExtraTreesClassifier(n_estimators=200))]).fit(X, y)"
   ]
  },
  {
   "cell_type": "code",
   "execution_count": 13,
   "metadata": {},
   "outputs": [],
   "source": [
    "onx = convert_sklearn(MnistModelET, initial_types=initial_types)\n",
    "with open(\"MnistET.onnx\", \"wb\") as file:\n",
    "    file.write(onx.SerializeToString())"
   ]
  },
  {
   "cell_type": "code",
   "execution_count": 14,
   "metadata": {},
   "outputs": [],
   "source": [
    "with open('MnistET.pkl', 'wb') as file:\n",
    "    pickle.dump(MnistModelET, file)"
   ]
  },
  {
   "source": [
    "## Pycaret model comparison"
   ],
   "cell_type": "markdown",
   "metadata": {}
  },
  {
   "cell_type": "code",
   "execution_count": 15,
   "metadata": {},
   "outputs": [],
   "source": [
    "# from pycaret.classification import *\n",
    "# X2=X.copy()\n",
    "# X2['y']=y\n",
    "# CaretModel = setup(data = X2, target = 'y', silent=True)\n",
    "# # best = compare_models(exclude = ['catboost']) # CatBoost demora mucho"
   ]
  },
  {
   "cell_type": "code",
   "execution_count": 16,
   "metadata": {},
   "outputs": [],
   "source": [
    "# tuned = tune_model(MnistModelLR,choose_better=True)\n",
    "# tuned"
   ]
  }
 ],
 "metadata": {
  "kernelspec": {
   "name": "python3",
   "display_name": "Python 3.8.7 64-bit",
   "metadata": {
    "interpreter": {
     "hash": "1baa965d5efe3ac65b79dfc60c0d706280b1da80fedb7760faf2759126c4f253"
    }
   }
  },
  "language_info": {
   "codemirror_mode": {
    "name": "ipython",
    "version": 3
   },
   "file_extension": ".py",
   "mimetype": "text/x-python",
   "name": "python",
   "nbconvert_exporter": "python",
   "pygments_lexer": "ipython3",
   "version": "3.8.7-final"
  }
 },
 "nbformat": 4,
 "nbformat_minor": 4
}